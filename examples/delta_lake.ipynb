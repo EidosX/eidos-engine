{
 "cells": [
  {
   "cell_type": "code",
   "execution_count": 2,
   "metadata": {},
   "outputs": [
    {
     "name": "stdout",
     "output_type": "stream",
     "text": [
      "2025-02-11T19:01:53.681535-03:00 - INFO - Starting, Process_id: eidos-engine@2025-02-11T19:01:53.681253-03:00\n",
      "2025-02-11T19:01:53.681631-03:00 - INFO - Loading data\n",
      "2025-02-11T19:01:53.681651-03:00 - INFO - Loaded data in 0.00 min\n",
      "2025-02-11T19:01:53.681680-03:00 - INFO - Processing\n"
     ]
    },
    {
     "name": "stderr",
     "output_type": "stream",
     "text": [
      "Processing Batches: 0it [00:00, ?it/s]"
     ]
    },
    {
     "name": "stdout",
     "output_type": "stream",
     "text": [
      "2025-02-11T19:01:53.682629-03:00 - INFO - Batch 0 -> 10\n"
     ]
    },
    {
     "name": "stderr",
     "output_type": "stream",
     "text": [
      "Processing Batches: 1it [00:02,  2.01s/it]"
     ]
    },
    {
     "name": "stdout",
     "output_type": "stream",
     "text": [
      "2025-02-11T19:01:55.687317-03:00 - INFO - Batch 0 -> 10, 0 errors, Finished @0.03 min\n",
      "2025-02-11T19:01:55.687390-03:00 - INFO - Estimated finish time: 0.00 min, Throughput: 1.00 it/s\n",
      "2025-02-11T19:01:55.688182-03:00 - INFO - Processing Finished @0.03 min\n"
     ]
    },
    {
     "name": "stderr",
     "output_type": "stream",
     "text": [
      "\n"
     ]
    },
    {
     "data": {
      "text/html": [
       "<div>\n",
       "<style scoped>\n",
       "    .dataframe tbody tr th:only-of-type {\n",
       "        vertical-align: middle;\n",
       "    }\n",
       "\n",
       "    .dataframe tbody tr th {\n",
       "        vertical-align: top;\n",
       "    }\n",
       "\n",
       "    .dataframe thead th {\n",
       "        text-align: right;\n",
       "    }\n",
       "</style>\n",
       "<table border=\"1\" class=\"dataframe\">\n",
       "  <thead>\n",
       "    <tr style=\"text-align: right;\">\n",
       "      <th></th>\n",
       "      <th>teste</th>\n",
       "      <th>etl#delay</th>\n",
       "      <th>etl#status</th>\n",
       "      <th>etl#aaa</th>\n",
       "    </tr>\n",
       "  </thead>\n",
       "  <tbody>\n",
       "    <tr>\n",
       "      <th>0</th>\n",
       "      <td>0</td>\n",
       "      <td>1.000582</td>\n",
       "      <td>1</td>\n",
       "      <td>1</td>\n",
       "    </tr>\n",
       "    <tr>\n",
       "      <th>1</th>\n",
       "      <td>1</td>\n",
       "      <td>2.001415</td>\n",
       "      <td>1</td>\n",
       "      <td>1</td>\n",
       "    </tr>\n",
       "  </tbody>\n",
       "</table>\n",
       "</div>"
      ],
      "text/plain": [
       "   teste  etl#delay  etl#status  etl#aaa\n",
       "0      0   1.000582           1        1\n",
       "1      1   2.001415           1        1"
      ]
     },
     "execution_count": 2,
     "metadata": {},
     "output_type": "execute_result"
    }
   ],
   "source": [
    "import time\n",
    "import polars as pl\n",
    "import sys\n",
    "sys.path.append('..')\n",
    "from eidos_engine.etl.load import ETL\n",
    "def process_func(d):\n",
    "    time.sleep(1 if d['teste'] % 2 == 0 else 2)\n",
    "    return {'aaa':1}\n",
    "etl = ETL(process_func, block_errors=0.0,logfire_write_token=None,disable_logs=True)\n",
    "df = pl.DataFrame({'teste': list(range(2))})\n",
    "process_id = etl.process_in_threads(df, batch_size = 10, num_threads=2)\n",
    "etl.get_results(process_id,'pandas')"
   ]
  },
  {
   "cell_type": "code",
   "execution_count": null,
   "metadata": {},
   "outputs": [],
   "source": []
  }
 ],
 "metadata": {
  "kernelspec": {
   "display_name": ".venv",
   "language": "python",
   "name": "python3"
  },
  "language_info": {
   "codemirror_mode": {
    "name": "ipython",
    "version": 3
   },
   "file_extension": ".py",
   "mimetype": "text/x-python",
   "name": "python",
   "nbconvert_exporter": "python",
   "pygments_lexer": "ipython3",
   "version": "3.10.16"
  }
 },
 "nbformat": 4,
 "nbformat_minor": 2
}
