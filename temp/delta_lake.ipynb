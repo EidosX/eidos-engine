{
 "cells": [
  {
   "cell_type": "code",
   "execution_count": null,
   "metadata": {},
   "outputs": [
    {
     "ename": "",
     "evalue": "",
     "output_type": "error",
     "traceback": [
      "\u001b[1;31mThe kernel failed to start due to the missing module '_sqlite3'. Consider installing this module.\n",
      "\u001b[1;31mClick <a href='https://aka.ms/kernelFailuresMissingModule'>here</a> for more info."
     ]
    }
   ],
   "source": [
    "# from deltalake import write_deltalake, DeltaTable\n",
    "# import pandas as pd\n",
    "\n",
    "# df = pd.DataFrame({'teste': [1, 2, 3]})\n",
    "# write_deltalake('teste', df, mode='append')\n",
    "# df = pd.DataFrame({'teste': [4, 5, 6]})\n",
    "# write_deltalake('teste', df, mode='append')\n",
    "# DeltaTable('./teste').to_pandas()"
   ]
  },
  {
   "cell_type": "code",
   "execution_count": null,
   "metadata": {},
   "outputs": [
    {
     "ename": "",
     "evalue": "",
     "output_type": "error",
     "traceback": [
      "\u001b[1;31mRunning cells with '.venv (Python 3.10.16)' requires the ipykernel package.\n",
      "\u001b[1;31mRun the following command to install 'ipykernel' into the Python environment. \n",
      "\u001b[1;31mCommand: '/media/kzezel/data/dados/development/aws/projetos/open_source/eidos-engine/.venv/bin/python -m pip install ipykernel -U --force-reinstall'"
     ]
    }
   ],
   "source": [
    "import sys\n",
    "import time\n",
    "import pandas as pd\n",
    "import polars as pl\n",
    "import math\n",
    "sys.path.append(\"..\")\n",
    "from eidos_engine.etl.load import ETL\n",
    "def process_func(d):\n",
    "    time.sleep(1 if d['teste'] % 2 == 0 else 2)\n",
    "    # if d['teste'] == 3:\n",
    "    #     raise Exception('teste')\n",
    "    return d\n",
    "etl = ETL(process_func, block_errors=0.0,logfire_write_token=\"GpGFwNQrg23qNTfSzR1qKn9fHG57rZ3dM8dFkDJ3DrGC\")"
   ]
  },
  {
   "cell_type": "code",
   "execution_count": 2,
   "metadata": {},
   "outputs": [
    {
     "name": "stdout",
     "output_type": "stream",
     "text": [
      "2025-02-11T17:03:22.410156-03:00 - INFO - Starting, Process_id: eidos-engine@2025-02-11T17:03:22.409760-03:00\n",
      "20:03:22.410 2025-02-11T17:03:22.410385-03:00 - INFO - eidos-engine@2025-02-11T17:03:22.409760-03:00 - Starting, Process_id: eidos-engine@2025-02-11T17:03:22.409760-03:00\n",
      "2025-02-11T17:03:22.411162-03:00 - INFO - Loading data\n",
      "20:03:22.411 2025-02-11T17:03:22.411224-03:00 - INFO - eidos-engine@2025-02-11T17:03:22.409760-03:00 - Loading data\n",
      "2025-02-11T17:03:22.411395-03:00 - INFO - Loaded data in 0.00 seconds\n",
      "20:03:22.411 2025-02-11T17:03:22.411446-03:00 - INFO - eidos-engine@2025-02-11T17:03:22.409760-03:00 - Loaded data in 0.00 seconds\n",
      "2025-02-11T17:03:22.411613-03:00 - INFO - Processing\n",
      "20:03:22.411 2025-02-11T17:03:22.411667-03:00 - INFO - eidos-engine@2025-02-11T17:03:22.409760-03:00 - Processing\n"
     ]
    },
    {
     "name": "stderr",
     "output_type": "stream",
     "text": [
      "Processing Batches:   0%|          | 0/1 [00:00<?, ?it/s]"
     ]
    },
    {
     "name": "stdout",
     "output_type": "stream",
     "text": [
      "2025-02-11T17:03:22.413658-03:00 - INFO - Batch 0 -> 10\n",
      "20:03:22.414 2025-02-11T17:03:22.414019-03:00 - INFO - eidos-engine@2025-02-11T17:03:22.409760-03:00 - Batch 0 -> 10\n"
     ]
    },
    {
     "name": "stderr",
     "output_type": "stream",
     "text": [
      "Processing Batches: 100%|██████████| 1/1 [00:08<00:00,  8.02s/it]"
     ]
    },
    {
     "name": "stdout",
     "output_type": "stream",
     "text": [
      "2025-02-11T17:03:30.427902-03:00 - INFO - Batch 0 -> 10, 0 errors, Finished @8.01s\n",
      "20:03:30.428 2025-02-11T17:03:30.428184-03:00 - INFO - eidos-engine@2025-02-11T17:03:22.409760-03:00 - Batch 0 -> 10, 0 errors, Finished @8.01s\n",
      "2025-02-11T17:03:30.429189-03:00 - INFO - Processing Finished @8.02s\n",
      "20:03:30.429 2025-02-11T17:03:30.429445-03:00 - INFO - eidos-engine@2025-02-11T17:03:22.409760-03:00 - Processing Finished @8.02s\n"
     ]
    },
    {
     "name": "stderr",
     "output_type": "stream",
     "text": [
      "\n"
     ]
    }
   ],
   "source": [
    "df = pl.DataFrame({'teste': list(range(10))})\n",
    "etl.process_in_threads(df, batch_size = 10, num_threads=2)"
   ]
  },
  {
   "cell_type": "code",
   "execution_count": 5,
   "metadata": {},
   "outputs": [
    {
     "data": {
      "text/html": [
       "<div>\n",
       "<style scoped>\n",
       "    .dataframe tbody tr th:only-of-type {\n",
       "        vertical-align: middle;\n",
       "    }\n",
       "\n",
       "    .dataframe tbody tr th {\n",
       "        vertical-align: top;\n",
       "    }\n",
       "\n",
       "    .dataframe thead th {\n",
       "        text-align: right;\n",
       "    }\n",
       "</style>\n",
       "<table border=\"1\" class=\"dataframe\">\n",
       "  <thead>\n",
       "    <tr style=\"text-align: right;\">\n",
       "      <th></th>\n",
       "      <th>teste</th>\n",
       "      <th>etl#delay</th>\n",
       "      <th>etl#status</th>\n",
       "      <th>etl#teste</th>\n",
       "    </tr>\n",
       "  </thead>\n",
       "  <tbody>\n",
       "    <tr>\n",
       "      <th>0</th>\n",
       "      <td>0</td>\n",
       "      <td>1.001059</td>\n",
       "      <td>1</td>\n",
       "      <td>0</td>\n",
       "    </tr>\n",
       "    <tr>\n",
       "      <th>1</th>\n",
       "      <td>1</td>\n",
       "      <td>2.001766</td>\n",
       "      <td>1</td>\n",
       "      <td>1</td>\n",
       "    </tr>\n",
       "    <tr>\n",
       "      <th>2</th>\n",
       "      <td>2</td>\n",
       "      <td>1.000857</td>\n",
       "      <td>1</td>\n",
       "      <td>2</td>\n",
       "    </tr>\n",
       "    <tr>\n",
       "      <th>3</th>\n",
       "      <td>3</td>\n",
       "      <td>2.002078</td>\n",
       "      <td>1</td>\n",
       "      <td>3</td>\n",
       "    </tr>\n",
       "    <tr>\n",
       "      <th>4</th>\n",
       "      <td>4</td>\n",
       "      <td>1.001020</td>\n",
       "      <td>1</td>\n",
       "      <td>4</td>\n",
       "    </tr>\n",
       "    <tr>\n",
       "      <th>5</th>\n",
       "      <td>5</td>\n",
       "      <td>2.002020</td>\n",
       "      <td>1</td>\n",
       "      <td>5</td>\n",
       "    </tr>\n",
       "    <tr>\n",
       "      <th>6</th>\n",
       "      <td>6</td>\n",
       "      <td>1.000540</td>\n",
       "      <td>1</td>\n",
       "      <td>6</td>\n",
       "    </tr>\n",
       "    <tr>\n",
       "      <th>7</th>\n",
       "      <td>7</td>\n",
       "      <td>2.001878</td>\n",
       "      <td>1</td>\n",
       "      <td>7</td>\n",
       "    </tr>\n",
       "    <tr>\n",
       "      <th>8</th>\n",
       "      <td>8</td>\n",
       "      <td>1.000972</td>\n",
       "      <td>1</td>\n",
       "      <td>8</td>\n",
       "    </tr>\n",
       "    <tr>\n",
       "      <th>9</th>\n",
       "      <td>9</td>\n",
       "      <td>2.002088</td>\n",
       "      <td>1</td>\n",
       "      <td>9</td>\n",
       "    </tr>\n",
       "  </tbody>\n",
       "</table>\n",
       "</div>"
      ],
      "text/plain": [
       "   teste  etl#delay  etl#status  etl#teste\n",
       "0      0   1.001059           1          0\n",
       "1      1   2.001766           1          1\n",
       "2      2   1.000857           1          2\n",
       "3      3   2.002078           1          3\n",
       "4      4   1.001020           1          4\n",
       "5      5   2.002020           1          5\n",
       "6      6   1.000540           1          6\n",
       "7      7   2.001878           1          7\n",
       "8      8   1.000972           1          8\n",
       "9      9   2.002088           1          9"
      ]
     },
     "execution_count": 5,
     "metadata": {},
     "output_type": "execute_result"
    }
   ],
   "source": [
    "etl.get_results('2025-02-11T16:14:22.787158-03:00','pandas')"
   ]
  },
  {
   "cell_type": "code",
   "execution_count": 10,
   "metadata": {},
   "outputs": [
    {
     "name": "stdout",
     "output_type": "stream",
     "text": [
      "shape: (5, 1)\n",
      "┌───────┐\n",
      "│ teste │\n",
      "│ ---   │\n",
      "│ i64   │\n",
      "╞═══════╡\n",
      "│ 0     │\n",
      "│ 1     │\n",
      "│ 2     │\n",
      "│ 3     │\n",
      "│ 4     │\n",
      "└───────┘\n",
      "shape: (5, 1)\n",
      "┌───────┐\n",
      "│ teste │\n",
      "│ ---   │\n",
      "│ i64   │\n",
      "╞═══════╡\n",
      "│ 5     │\n",
      "│ 6     │\n",
      "│ 7     │\n",
      "│ 8     │\n",
      "│ 9     │\n",
      "└───────┘\n"
     ]
    }
   ],
   "source": [
    "batch_size = 10\n",
    "num_threads = 2\n",
    "for i in range(0, df.height, batch_size):\n",
    "    batch = df.slice(i, batch_size)\n",
    "    _num_threads = batch.height if num_threads > batch.height else num_threads\n",
    "    num = math.ceil(batch.height / _num_threads)\n",
    "    for i in range(_num_threads):\n",
    "        print(batch.slice(i * num, num))\n",
    "    break"
   ]
  },
  {
   "cell_type": "code",
   "execution_count": null,
   "metadata": {},
   "outputs": [],
   "source": [
    "# from deltalake import write_deltalake, DeltaTable\n",
    "# import pandas as pd\n",
    "\n",
    "# df = pd.DataFrame({'teste': [1, 2, 3]})\n",
    "# write_deltalake('teste', df, mode='append')\n",
    "# df = pd.DataFrame({'teste': [4, 5, 6]})\n",
    "# write_deltalake('teste', df, mode='append')\n",
    "# DeltaTable('./teste').to_pandas()"
   ]
  },
  {
   "cell_type": "code",
   "execution_count": null,
   "metadata": {},
   "outputs": [],
   "source": []
  }
 ],
 "metadata": {
  "kernelspec": {
   "display_name": ".venv",
   "language": "python",
   "name": "python3"
  },
  "language_info": {
   "codemirror_mode": {
    "name": "ipython",
    "version": 3
   },
   "file_extension": ".py",
   "mimetype": "text/x-python",
   "name": "python",
   "nbconvert_exporter": "python",
   "pygments_lexer": "ipython3",
   "version": "3.10.16"
  }
 },
 "nbformat": 4,
 "nbformat_minor": 2
}
